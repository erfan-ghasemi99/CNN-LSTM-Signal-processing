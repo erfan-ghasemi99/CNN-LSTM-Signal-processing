{
 "cells": [
  {
   "cell_type": "code",
   "execution_count": 1,
   "id": "93f512ba",
   "metadata": {},
   "outputs": [
    {
     "name": "stdout",
     "output_type": "stream",
     "text": [
      "['h01', 'h02', 'h03', 'h04', 'h05', 'h06', 'h07', 'h08', 'h09', 'h10', 'h11', 'h12', 'h13', 'h14', 's01', 's02', 's03', 's04', 's05', 's06', 's07', 's08', 's09', 's10', 's11', 's12', 's13', 's14']\n",
      "<class 'list'>\n",
      "28\n"
     ]
    }
   ],
   "source": [
    "import os\n",
    "\n",
    "folder_path = 'eeg_csv_frames'  # مسیر فولدر اصلی\n",
    "\n",
    "subfolders = [name for name in os.listdir(folder_path)\n",
    "              if os.path.isdir(os.path.join(folder_path, name))]\n",
    "\n",
    "print(subfolders)\n",
    "print(type(subfolders))\n",
    "print(len(subfolders))\n"
   ]
  },
  {
   "cell_type": "code",
   "execution_count": 2,
   "id": "c68559a7-be8a-4be8-ac71-68fb9680e230",
   "metadata": {},
   "outputs": [
    {
     "name": "stdout",
     "output_type": "stream",
     "text": [
      "✅ 74 files from folder 'h01' were normalized and saved.\n",
      "✅ 72 files from folder 'h02' were normalized and saved.\n",
      "✅ 72 files from folder 'h03' were normalized and saved.\n",
      "✅ 74 files from folder 'h04' were normalized and saved.\n",
      "✅ 74 files from folder 'h05' were normalized and saved.\n",
      "✅ 74 files from folder 'h06' were normalized and saved.\n",
      "✅ 72 files from folder 'h07' were normalized and saved.\n",
      "✅ 72 files from folder 'h08' were normalized and saved.\n",
      "✅ 72 files from folder 'h09' were normalized and saved.\n",
      "✅ 88 files from folder 'h10' were normalized and saved.\n",
      "✅ 72 files from folder 'h11' were normalized and saved.\n",
      "✅ 72 files from folder 'h12' were normalized and saved.\n",
      "✅ 76 files from folder 'h13' were normalized and saved.\n",
      "✅ 68 files from folder 'h14' were normalized and saved.\n",
      "✅ 66 files from folder 's01' were normalized and saved.\n",
      "✅ 90 files from folder 's02' were normalized and saved.\n",
      "✅ 76 files from folder 's03' were normalized and saved.\n",
      "✅ 96 files from folder 's04' were normalized and saved.\n",
      "✅ 70 files from folder 's05' were normalized and saved.\n",
      "✅ 58 files from folder 's06' were normalized and saved.\n",
      "✅ 106 files from folder 's07' were normalized and saved.\n",
      "✅ 72 files from folder 's08' were normalized and saved.\n",
      "✅ 94 files from folder 's09' were normalized and saved.\n",
      "✅ 68 files from folder 's10' were normalized and saved.\n",
      "✅ 108 files from folder 's11' were normalized and saved.\n",
      "✅ 86 files from folder 's12' were normalized and saved.\n",
      "✅ 90 files from folder 's13' were normalized and saved.\n",
      "✅ 172 files from folder 's14' were normalized and saved.\n"
     ]
    }
   ],
   "source": [
    "import os\n",
    "import pandas as pd\n",
    "from sklearn.preprocessing import StandardScaler, normalize\n",
    "\n",
    "folder_path = 'eeg_csv_frames'\n",
    "\n",
    "subfolders = [name for name in os.listdir(folder_path)\n",
    "              if os.path.isdir(os.path.join(folder_path, name))]\n",
    "\n",
    "for folder in subfolders:\n",
    "    sub_folder_path = os.path.join(folder_path, folder)\n",
    "    \n",
    "    # فقط فایل‌های CSV در این فولدر رو بگیر\n",
    "    sub_files = [name for name in os.listdir(sub_folder_path)\n",
    "                 if name.endswith('.csv')]\n",
    "\n",
    "    # مسیر فولدر خروجی نرمال‌سازی‌شده‌ها\n",
    "    normalized_path = os.path.join(sub_folder_path, 'Normalized')\n",
    "    os.makedirs(normalized_path, exist_ok=True)\n",
    "\n",
    "    for i, file in enumerate(sub_files):\n",
    "        file_path = os.path.join(sub_folder_path, file)\n",
    "        df = pd.read_csv(file_path)\n",
    "\n",
    "        # Z-Score Normalization\n",
    "        scaler = StandardScaler()\n",
    "        zscore_normalized = scaler.fit_transform(df)\n",
    "        df_zscore = pd.DataFrame(zscore_normalized, columns=df.columns)\n",
    "        df_zscore.to_csv(os.path.join(normalized_path, f\"frame_{i:02}_zscore.csv\"), index=False)\n",
    "\n",
    "        # Z-Score + L2 Normalization\n",
    "        zscore_l2_normalized = normalize(zscore_normalized, norm='l2')\n",
    "        df_zscore_l2 = pd.DataFrame(zscore_l2_normalized, columns=df.columns)\n",
    "        df_zscore_l2.to_csv(os.path.join(normalized_path, f\"frame_{i:02}_zscore_l2.csv\"), index=False)\n",
    "\n",
    "    print(f\"✅ {len(sub_files)*2} files from folder '{folder}' were normalized and saved.\")\n"
   ]
  },
  {
   "cell_type": "code",
   "execution_count": null,
   "id": "48df5e8c",
   "metadata": {},
   "outputs": [],
   "source": []
  }
 ],
 "metadata": {
  "kernelspec": {
   "display_name": "Python 3 (ipykernel)",
   "language": "python",
   "name": "python3"
  },
  "language_info": {
   "codemirror_mode": {
    "name": "ipython",
    "version": 3
   },
   "file_extension": ".py",
   "mimetype": "text/x-python",
   "name": "python",
   "nbconvert_exporter": "python",
   "pygments_lexer": "ipython3",
   "version": "3.10.14"
  }
 },
 "nbformat": 4,
 "nbformat_minor": 5
}
